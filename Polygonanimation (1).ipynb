{
 "cells": [
  {
   "cell_type": "markdown",
   "id": "45e4c05d-ab93-4a6c-a7a2-7de8ba5657d0",
   "metadata": {},
   "source": [
    "### Week 5"
   ]
  },
  {
   "cell_type": "markdown",
   "id": "604f3658-6c93-4aa8-86a0-f532167db6bb",
   "metadata": {},
   "source": [
    "#### Megna P <ee21b085@smail.iitm.ac.in>"
   ]
  },
  {
   "cell_type": "code",
   "execution_count": 2,
   "id": "8e7769cb-f08b-4305-8cb0-29977188b581",
   "metadata": {},
   "outputs": [],
   "source": [
    "%matplotlib ipympl\n",
    "import numpy as np\n",
    "import matplotlib.pyplot as plt\n",
    "from matplotlib.animation import FuncAnimation\n",
    "import matplotlib.animation as animation"
   ]
  },
  {
   "cell_type": "code",
   "execution_count": 3,
   "id": "964eccc1-d796-4d85-b21d-ea681a63fe2a",
   "metadata": {},
   "outputs": [],
   "source": [
    "def generate_line(x1, y1, x2, y2, num_points):\n",
    "                if round(100 * x2) / 100 == round(100 * x1) / 100:\n",
    "                                # line is vertical\n",
    "                                x_samples = np.ones(num_points - 2) * x1\n",
    "                                y_samples = np.linspace(y1, y2, num_points)\n",
    "                                y_samples = np.delete(y_samples, [0, -1])\n",
    "                else:\n",
    "                                m = (y2 - y1) / (x2 - x1)\n",
    "                                c = y1 - m * x1\n",
    "                                x_samples = np.linspace(x1, x2, num_points)\n",
    "                                x_samples = np.delete(x_samples, [0, -1])\n",
    "                                y_samples = (x_samples * m) + c\n",
    "                return x_samples, y_samples"
   ]
  },
  {
   "cell_type": "markdown",
   "id": "c95ce8cd-b4bd-4179-bd57-78c46d330e0f",
   "metadata": {},
   "source": [
    "> This is for generating lines between two choosen points."
   ]
  },
  {
   "cell_type": "code",
   "execution_count": 4,
   "id": "c46a7460-8185-4dc1-a0df-2a61ed839664",
   "metadata": {},
   "outputs": [],
   "source": [
    "def polygon(n, r):\n",
    "                angles = np.linspace(0 * np.pi, 2 * np.pi, n + 1)\n",
    "                num_points_per_side = int((840 + n) / n)\n",
    "                x_corners = r * np.cos(angles)[0:n]\n",
    "                y_corners = r * np.sin(angles)[0:n]\n",
    "                x_polygon = [x_corners[-1]]\n",
    "                y_polygon = [y_corners[-1]]\n",
    "                for i in range(-1, len(x_corners) - 1):\n",
    "                                temp_x, temp_y = generate_line(x_corners[i], y_corners[i],x_corners[i + 1], y_corners[i + 1],num_points_per_side)\n",
    "                                x_polygon += list(temp_x)\n",
    "                                y_polygon += list(temp_y)\n",
    "                                x_polygon.append(x_corners[i + 1])\n",
    "                                y_polygon.append(y_corners[i + 1])\n",
    "                x_polygon.pop()\n",
    "                y_polygon.pop()\n",
    "                return np.array(x_polygon), np.array(y_polygon)"
   ]
  },
  {
   "cell_type": "markdown",
   "id": "9084d88a-9541-4b85-a74d-1fa7aaddad2e",
   "metadata": {},
   "source": [
    "> This function is used to generate a polygon of n-sides. The total no. of point taken will be 1680 , for one side we will take 840 points construct the polygons accordingly."
   ]
  },
  {
   "cell_type": "code",
   "execution_count": 5,
   "id": "5b2fe327-416f-4e53-844d-f6f1e4611eb6",
   "metadata": {},
   "outputs": [
    {
     "data": {
      "application/vnd.jupyter.widget-view+json": {
       "model_id": "80b1df9b150c41d5957f1d695df61e8a",
       "version_major": 2,
       "version_minor": 0
      },
      "image/png": "[encoded data removed]",
      "text/html": [
       "\n",
       "            <div style=\"display: inline-block;\">\n",
       "                <div class=\"jupyter-widgets widget-label\" style=\"text-align: center;\">\n",
       "                    Figure\n",
       "                </div>\n",
       "                <img src='data:image/png;base64,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' width=640.0/>\n",
       "            </div>\n",
       "        "
      ],
      "text/plain": [
       "Canvas(toolbar=Toolbar(toolitems=[('Home', 'Reset original view', 'home', 'home'), ('Back', 'Back to previous …"
      ]
     },
     "metadata": {},
     "output_type": "display_data"
    }
   ],
   "source": [
    "def morph(x1,y1,x2,y2,t):\n",
    "                xm=x2*(1-t)+x1*t\n",
    "                ym=y2*(1-t)+y1*t\n",
    "                return xm,ym\n",
    "            \n",
    "xt,yt=polygon(3,1)\n",
    "xs,ys=polygon(4,1)\n",
    "xp,yp=polygon(5,1)\n",
    "xh,yh=polygon(6,1)\n",
    "xhp,yhp=polygon(7,1)\n",
    "xo,yo=polygon(8,1)\n",
    "\n",
    "fig, ax = plt.subplots()\n",
    "xdata, ydata = [], []\n",
    "ln, = ax.plot([], [], 'b')\n",
    "def init():\n",
    "              ax.set_xlim(-1.2, 1.2)\n",
    "              ax.set_ylim(-1.2, 1.2)\n",
    "              return ln,\n",
    "def mod(x):\n",
    "            y=x-int(x)\n",
    "            return y\n",
    "def update(frame):\n",
    "            if frame>=0 and frame<1:\n",
    "                                xd,yd=morph(xs,ys,xt,yt,mod(frame))\n",
    "            if frame>=1 and frame<2:\n",
    "                                xd,yd=morph(xp,yp,xs,ys,mod(frame))\n",
    "            if frame>=2 and frame<3:\n",
    "                                xd,yd=morph(xh,yh,xp,yp,mod(frame))\n",
    "            if frame>=3 and frame<4:\n",
    "                                xd,yd=morph(xhp,yhp,xh,yh,mod(frame))\n",
    "            if frame>=4 and frame<5:\n",
    "                                xd,yd=morph(xo,yo,xhp,yhp,mod(frame))\n",
    "            if frame>=5 and frame<6:\n",
    "                                xd,yd=morph(xhp,yhp,xo,yo,mod(frame))\n",
    "            if frame>=6 and frame<7:\n",
    "                                xd,yd=morph(xh,yh,xhp,yhp,mod(frame))\n",
    "            if frame>=7 and frame<8:\n",
    "                                xd,yd=morph(xp,yp,xh,yh,mod(frame))\n",
    "            if frame>=8 and frame<9:\n",
    "                                xd,yd=morph(xs,ys,xp,yp,mod(frame))\n",
    "            if frame>=9 and frame<10:\n",
    "                                xd,yd=morph(xt,yt,xs,ys,mod(frame))\n",
    "            ln.set_data(xd,yd)\n",
    "            return ln,\n",
    "anim = FuncAnimation(fig, update, frames=np.linspace(0, 10, 900),init_func=init, blit=True, interval=20, repeat=True)\n",
    "plt.show()"
   ]
  },
  {
   "cell_type": "code",
   "execution_count": null,
   "id": "faff95b3-48c9-4af4-8746-10cfeb86d022",
   "metadata": {},
   "outputs": [],
   "source": []
  }
 ],
 "metadata": {
  "kernelspec": {
   "display_name": "Python 3 (ipykernel)",
   "language": "python",
   "name": "python3"
  },
  "language_info": {
   "codemirror_mode": {
    "name": "ipython",
    "version": 3
   },
   "file_extension": ".py",
   "mimetype": "text/x-python",
   "name": "python",
   "nbconvert_exporter": "python",
   "pygments_lexer": "ipython3",
   "version": "3.9.2"
  }
 },
 "nbformat": 4,
 "nbformat_minor": 5
}
